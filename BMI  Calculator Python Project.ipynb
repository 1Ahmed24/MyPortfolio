{
 "cells": [
  {
   "cell_type": "markdown",
   "id": "3f941fee-0e92-48ac-8fe2-827878179353",
   "metadata": {},
   "source": [
    "BMI  Calculator"
   ]
  },
  {
   "cell_type": "code",
   "execution_count": 16,
   "id": "bc23d689-2d29-40a2-9813-f86a70a61a58",
   "metadata": {},
   "outputs": [
    {
     "name": "stdin",
     "output_type": "stream",
     "text": [
      "Enter your name please:  ahmed\n",
      "What's your height in inches:  50\n",
      "What's your weight in pounds:  500\n"
     ]
    },
    {
     "name": "stdout",
     "output_type": "stream",
     "text": [
      "Your BMI is 140.6\n",
      "ahmed, you are morbidly obese\n"
     ]
    }
   ],
   "source": [
    "name = input(\"Enter your name please: \")\n",
    "\n",
    "height = int(input(\"What's your height in inches: \"))\n",
    "\n",
    "weight = int(input(\"What's your weight in pounds: \"))\n",
    "\n",
    "BMI = (weight * 703) / (height * height)\n",
    "print(\"Your BMI is\", BMI)\n",
    "\n",
    "if BMI > 0:\n",
    "    if BMI < 18.5:\n",
    "        print(name + \", you are underweight\")\n",
    "    elif BMI <= 24.9:\n",
    "        print(name + \", you are normal weight\")\n",
    "    elif BMI < 29.9:\n",
    "        print(name + \", you are overweight\")\n",
    "    elif BMI < 34.9:\n",
    "        print(name + \", you are obese\")\n",
    "    elif BMI < 39.9:\n",
    "        print(name + \", you are severely obese\")\n",
    "    else:\n",
    "        print(name + \", you are morbidly obese\")\n",
    "else:\n",
    "    print(name + \", enter real inputs please\")"
   ]
  },
  {
   "cell_type": "code",
   "execution_count": null,
   "id": "17146b4c-e7e4-4a64-bf00-e97cb9020824",
   "metadata": {},
   "outputs": [],
   "source": []
  }
 ],
 "metadata": {
  "kernelspec": {
   "display_name": "Python 3 (ipykernel)",
   "language": "python",
   "name": "python3"
  },
  "language_info": {
   "codemirror_mode": {
    "name": "ipython",
    "version": 3
   },
   "file_extension": ".py",
   "mimetype": "text/x-python",
   "name": "python",
   "nbconvert_exporter": "python",
   "pygments_lexer": "ipython3",
   "version": "3.11.7"
  }
 },
 "nbformat": 4,
 "nbformat_minor": 5
}
